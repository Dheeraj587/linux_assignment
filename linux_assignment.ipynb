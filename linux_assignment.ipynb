{
  "nbformat": 4,
  "nbformat_minor": 0,
  "metadata": {
    "colab": {
      "provenance": []
    },
    "kernelspec": {
      "name": "python3",
      "display_name": "Python 3"
    },
    "language_info": {
      "name": "python"
    }
  },
  "cells": [
    {
      "cell_type": "code",
      "execution_count": null,
      "metadata": {
        "id": "4lvxdzSpNrut"
      },
      "outputs": [],
      "source": []
    },
    {
      "cell_type": "markdown",
      "source": [
        "                                                  LINUX ASSIGNMENT\n",
        "Q1. What is Linux ?\n",
        "ans:Linux is an open-source, Unix-like operating system kernel that serves as the foundation for a wide range of operating systems, known as Linux distributions.  Linux has grown into a powerful, flexible, and secure system used in everything from personal computers and servers to smartphones, embedded devices, and supercomputers. Unlike proprietary systems, Linux is freely available for anyone to use, modify, and distribute, which has fostered a global community of developers and users.\n",
        "\n",
        "q2.What is the difference between Hard Link & Soft Link ?\n",
        "ans:A hard link is like a duplicate name for the same file on your system. It points directly to the file’s data, so even if the original file is deleted, the data is still there as long as the hard link exists. On the other hand, a soft link ,it points to the original file’s path. If the original file is deleted, the soft link breaks and no longer works. Hard links can't link to directories or files on other file systems, while soft links can. In short, hard links share the same data, while soft links just point to the location of the file.\n",
        "\n",
        "q3. What is a Kernel in Linux?\n",
        "ans: the kernel is the core part of the operating system that acts as a bridge between the hardware and software. It manages system resources such as the CPU, memory, and input/output devices, and ensures that different programs and users can run and interact with the hardware safely and efficiently.\n",
        "\n",
        "q4.How do you create a user account ?\n",
        "Ans : in linux we can create a user account by using the command -\n",
        "“Adduser or useradd”.\n",
        "\n",
        "q5.What is the ‘grep’ command used for in Linux?\n",
        "Ans: The grep command in linux is used to search the word or line of word in the file .\n",
        "\n",
        "q6.I Step1: Create user p1\n",
        "Step2: He should be part of 3 groups g1,g2,g3.\n",
        " Step3: whenever he creates a file automatically in the group section of file grp g1 should come.\n",
        "Ans:to create user p1\n",
        "“Useradd p1”\n",
        "\n",
        "Step 2:sudo groupadd g1\n",
        "sudo groupadd g2\n",
        "sudo groupadd g3\n",
        "sudo usermod -aG g1,g2,g3 p1\n",
        "\n",
        "Step3:\n",
        "sudo usermod -g g1 p1\n",
        "\n",
        "q7.Step1: Create directory /tmp/bg as root user and create files inside it. Step2: “abhi” should be the owner of the directory. He should be able to create files and delete files inside the directory and also he should be able to add content to all files inside the directory.\n",
        "\n",
        "\n",
        "\n",
        "\n"
      ],
      "metadata": {
        "id": "rqcyfakLNukR"
      }
    },
    {
      "cell_type": "code",
      "source": [
        "!sudo -i\n",
        "! mkdir /tmp/bg\n",
        "! cd /tmp/bg\n",
        "! touch file\n",
        "!useradd abhi\n",
        "!chown -R abhi:abhi /tmp/bg\n",
        "!chmod u+rwx /tmp/bg"
      ],
      "metadata": {
        "id": "-SQsofS9N3aK"
      },
      "execution_count": null,
      "outputs": []
    },
    {
      "cell_type": "markdown",
      "source": [
        "\n",
        "q8. You suspect that a particular process is consuming excessive CPU resources on your Linux server. How\n",
        "would you identify and terminate this process?\n",
        "ans: to see the process we use top command and analyze which process consuming ecessive cpu resources and top command also show the process id after that we use kill command to suspect that process."
      ],
      "metadata": {
        "id": "Fw2lmsLjPELm"
      }
    },
    {
      "cell_type": "code",
      "source": [
        "! top\n",
        "! kill -9 <PID>"
      ],
      "metadata": {
        "id": "eEt_peJ0QClY"
      },
      "execution_count": null,
      "outputs": []
    }
  ]
}